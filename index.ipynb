{
 "cells": [
  {
   "cell_type": "markdown",
   "metadata": {},
   "source": [
    "# Web Scraping with Beautiful Soup"
   ]
  },
  {
   "cell_type": "markdown",
   "metadata": {},
   "source": [
    "## Introduction\n",
    "\n",
    "The web is full of great datasets, but not all of them are readily available for download and analysis.\n",
    "Today we'll take a look at how you can surf the web robotically, saving the relevant information into storage containers as you go!\n",
    "\n",
    "We'll be taking a look at two main packages:\n",
    "* Beautiful Soup\n",
    "* Pandas\n",
    "\n",
    "Our general approach will be:\n",
    "* pick a domain/set of web pages to scrape\n",
    "* investigate those web pages using the developers tools from your web browser (such as Chrome or Firefox)\n",
    "* write rules to select the relevant objects from the DOM\n",
    "* parse information from those objects and store it in a container"
   ]
  },
  {
   "cell_type": "markdown",
   "metadata": {},
   "source": [
    "## Objectives\n",
    "You will be able to:\n",
    "* Scrape static webpages\n",
    "* Select specific elements from the DOM"
   ]
  },
  {
   "cell_type": "markdown",
   "metadata": {},
   "source": [
    "## Web Page Introduction: **The DOM + HTML**"
   ]
  },
  {
   "cell_type": "markdown",
   "metadata": {},
   "source": [
    "Before we start scraping, having a little background about how web pages are formatted is very helpful.\n",
    "\n",
    "\"The Document Object Model (DOM) is a programming interface for HTML and XML documents. It represents the page so that programs can change the document structure, style, and content. The DOM represents the document as nodes and objects. That way, programming languages can connect to the page.\" Amongst other things, this allows programming languages such as javascript to interactively change the page and HTML!  \n",
    "\n",
    "What you'll see is the DOM and HTML create a hierarchy of elements. This structure and the underlying elements can be naviagated similar to a family tree which is one of Beautiful Soups main mechanisms for naviagation; once you select a specific element within a page you can then navigate to successive elements using methods such as sibling, parent or descendents.\n",
    "  \n",
    "To learn more about the DOM see:  \n",
    "https://developer.mozilla.org/en-US/docs/Web/API/Document_Object_Model/Introduction"
   ]
  },
  {
   "cell_type": "markdown",
   "metadata": {},
   "source": [
    "![](./images/DOM-model.svg.png)"
   ]
  },
  {
   "cell_type": "markdown",
   "metadata": {},
   "source": [
    "## Beautiful Soup   \n",
    "https://www.crummy.com/software/BeautifulSoup/bs4/doc/   \n",
    "\n",
    "Beautiful Soup is a Python library designed for quick turnaround projects like screen-scraping. Three features make it powerful:\n",
    "\n",
    "* Beautiful Soup provides a few simple methods and Pythonic idioms for navigating, searching, and modifying a parse tree: a toolkit for dissecting a document and extracting what you need. It doesn't take much code to write an application\n",
    "\n",
    "* Beautiful Soup automatically converts incoming documents to Unicode and outgoing documents to UTF-8. You don't have to think about encodings, unless the document doesn't specify an encoding and Beautiful Soup can't detect one. Then you just have to specify the original encoding.\n",
    "\n",
    "* Beautiful Soup sits on top of popular Python parsers like lxml and html5lib, allowing you to try out different parsing strategies or trade speed for flexibility.\n",
    "\n",
    "Beautiful Soup parses anything you give it, and does the tree traversal stuff for you. You can tell it \"Find all the links\", or \"Find all the links of class externalLink\", or \"Find all the links whose urls match \"foo.com\", or \"Find the table heading that's got bold text, then give me that text.\""
   ]
  },
  {
   "cell_type": "code",
   "execution_count": 1,
   "metadata": {},
   "outputs": [],
   "source": [
    "from bs4 import BeautifulSoup\n",
    "import requests\n",
    "import re\n",
    "import pandas as pd"
   ]
  },
  {
   "cell_type": "markdown",
   "metadata": {},
   "source": [
    "## An example webpage"
   ]
  },
  {
   "cell_type": "code",
   "execution_count": 2,
   "metadata": {},
   "outputs": [
    {
     "name": "stdout",
     "output_type": "stream",
     "text": [
      "<html>\n",
      " <head>\n",
      "  <title>\n",
      "   The Dormouse's story\n",
      "  </title>\n",
      " </head>\n",
      " <body>\n",
      "  <p class=\"title\">\n",
      "   <b>\n",
      "    The Dormouse's story\n",
      "   </b>\n",
      "  </p>\n",
      "  <p class=\"story\">\n",
      "   Once upon a time there were three little sisters; and their names were\n",
      "   <a class=\"sister\" href=\"http://example.com/elsie\" id=\"link1\">\n",
      "    Elsie\n",
      "   </a>\n",
      "   ,\n",
      "   <a class=\"sister\" href=\"http://example.com/lacie\" id=\"link2\">\n",
      "    Lacie\n",
      "   </a>\n",
      "   and\n",
      "   <a class=\"sister\" href=\"http://example.com/tillie\" id=\"link2\">\n",
      "    Tillie\n",
      "   </a>\n",
      "   ; and they lived at the bottom of a well.\n",
      "  </p>\n",
      "  <p class=\"story\">\n",
      "   ...\n",
      "  </p>\n",
      " </body>\n",
      "</html>\n"
     ]
    }
   ],
   "source": [
    "with open('sample_page.html') as f:\n",
    "    soup = BeautifulSoup(f, 'html.parser')\n",
    "print(soup.prettify())"
   ]
  },
  {
   "cell_type": "markdown",
   "metadata": {},
   "source": [
    "#### A few introductory Beautiful Soup Selections..."
   ]
  },
  {
   "cell_type": "code",
   "execution_count": 3,
   "metadata": {},
   "outputs": [
    {
     "name": "stdout",
     "output_type": "stream",
     "text": [
      "<title>\n",
      "    The Dormouse's story\n",
      "   </title>\n",
      "title\n",
      "\n",
      "    The Dormouse's story\n",
      "   \n",
      "head\n",
      "<p class=\"title\">\n",
      "<b>\n",
      "     The Dormouse's story\n",
      "    </b>\n",
      "</p>\n",
      "['title']\n",
      "<a class=\"sister\" href=\"http://example.com/elsie\" id=\"link1\">\n",
      "     Elsie\n",
      "    </a>\n",
      "[<a class=\"sister\" href=\"http://example.com/elsie\" id=\"link1\">\n",
      "     Elsie\n",
      "    </a>, <a class=\"sister\" href=\"http://example.com/lacie\" id=\"link2\">\n",
      "     Lacie\n",
      "    </a>, <a class=\"sister\" href=\"http://example.com/tillie\" id=\"link2\">\n",
      "     Tillie\n",
      "    </a>]\n",
      "None\n"
     ]
    }
   ],
   "source": [
    "print(soup.title)\n",
    "# <title>The Dormouse's story</title>\n",
    "\n",
    "print(soup.title.name)\n",
    "# u'title'\n",
    "\n",
    "print(soup.title.string)\n",
    "# u'The Dormouse's story'\n",
    "\n",
    "print(soup.title.parent.name)\n",
    "# u'head'\n",
    "\n",
    "print(soup.p)\n",
    "# <p class=\"title\"><b>The Dormouse's story</b></p>\n",
    "\n",
    "print(soup.p['class'])\n",
    "# u'title'\n",
    "\n",
    "print(soup.a)\n",
    "# <a class=\"sister\" href=\"http://example.com/elsie\" id=\"link1\">Elsie</a>\n",
    "\n",
    "print(soup.find_all('a'))\n",
    "# [<a class=\"sister\" href=\"http://example.com/elsie\" id=\"link1\">Elsie</a>,\n",
    "#  <a class=\"sister\" href=\"http://example.com/lacie\" id=\"link2\">Lacie</a>,\n",
    "#  <a class=\"sister\" href=\"http://example.com/tillie\" id=\"link3\">Tillie</a>]\n",
    "\n",
    "print(soup.find(id=\"link3\"))\n",
    "# <a class=\"sister\" href=\"http://example.com/tillie\" id=\"link3\">Tillie</a>"
   ]
  },
  {
   "cell_type": "markdown",
   "metadata": {},
   "source": [
    "## Grabbing a Web Page"
   ]
  },
  {
   "cell_type": "code",
   "execution_count": 4,
   "metadata": {},
   "outputs": [],
   "source": [
    "html_page = requests.get('https://www.azlyrics.com/') #Make a get request to retrieve the page\n",
    "soup = BeautifulSoup(html_page.content, 'html.parser') #Pass the page contents to beautiful soup for parsing"
   ]
  },
  {
   "cell_type": "code",
   "execution_count": 5,
   "metadata": {},
   "outputs": [
    {
     "name": "stdout",
     "output_type": "stream",
     "text": [
      "<!DOCTYPE html>\n",
      "<html lang=\"en\">\n",
      " <head>\n",
      "  <meta charset=\"utf-8\"/>\n",
      "  <meta content=\"IE=edge\" http-equiv=\"X-UA-Compatible\"/>\n",
      "  <meta content=\"width=device-width, initial-scale=1\" name=\"viewport\"/>\n",
      "  <meta content=\"noarchive\" name=\"robots\"/>\n",
      "  <meta content=\"AZLyrics\" name=\"name\"/>\n",
      "  <meta content=\"lyrics,music,song lyrics,songs,paroles\" name=\"keywords\"/>\n",
      "  <base href=\"//www.azlyrics.com\"/>\n",
      "  <script src=\"//www.azlyrics.com/external.js\" type=\"text/javascript\">\n",
      "  </script>\n",
      "  <title>\n",
      "   AZLyrics - Song Lyrics from A to Z\n",
      "  </title>\n",
      "  <link href=\"https://maxcdn.bootstrapcdn.com/bootstrap/3.3.4/css/bootstrap.min.css\" rel=\"stylesheet\"/>\n",
      "  <link href=\"//www.azlyrics.com/bsaz.css\" rel=\"stylesheet\"/>\n",
      "  <!-- HTML5 shim and Respond.js for IE8 support of HTML5 elements and media queries -->\n",
      "  <!--[if lt IE 9]>\r\n",
      "      <script src=\"https://oss.maxcdn.com/html5shiv/3.7.2/html5shiv.min.js\"></script>\r\n",
      "      <script src=\"https://oss.maxcdn.com/respond/1.4.2/respond.min.js\"></script>\r\n",
      "    <![endif]-->\n",
      "  <\n"
     ]
    }
   ],
   "source": [
    "#Preview the soup....MMMMMM SOUP :)\n",
    "print(soup.prettify()[:1000])"
   ]
  },
  {
   "cell_type": "markdown",
   "metadata": {},
   "source": [
    "### Inspecting the Web Page for Relevant Elements"
   ]
  },
  {
   "cell_type": "markdown",
   "metadata": {},
   "source": [
    "Here's the page itself:\n",
    "\n",
    "![](./images/home_page.png)"
   ]
  },
  {
   "cell_type": "markdown",
   "metadata": {},
   "source": [
    "## Parsing the DOM"
   ]
  },
  {
   "cell_type": "markdown",
   "metadata": {},
   "source": [
    "### soup.findAll()"
   ]
  },
  {
   "cell_type": "markdown",
   "metadata": {},
   "source": [
    "One common method we'll be use to navigate through the web page to extract information of interest is the soup.findAll() method.\n",
    "\n",
    "**Here's the docstring which you can bring up by typing (soup.findAll? [shift+enter])**  \n",
    "\n",
    "soup.findAll(name=None, attrs={}, recursive=True, text=None, limit=None, **kwargs)  \n",
    "\n",
    "Docstring:\n",
    "Extracts a list of Tag objects that match the given\n",
    "criteria.  You can specify the name of the Tag and any\n",
    "attributes you want the Tag to have.   \n",
    "\n",
    "The value of a key-value pair in the 'attrs' map can be a\n",
    "string, a list of strings, a regular expression object, or a\n",
    "callable that takes a string and returns whether or not the\n",
    "string matches for some custom definition of 'matches'. The\n",
    "same is true of the tag name."
   ]
  },
  {
   "cell_type": "code",
   "execution_count": 6,
   "metadata": {},
   "outputs": [
    {
     "data": {
      "text/plain": [
       "[<a class=\"btn btn-menu\" href=\"//www.azlyrics.com/y.html\">Y</a>,\n",
       " <a class=\"btn btn-menu\" href=\"//www.azlyrics.com/z.html\">Z</a>,\n",
       " <a class=\"btn btn-menu\" href=\"//www.azlyrics.com/19.html\">#</a>,\n",
       " <a href=\"/b/benjaminfrancisleftwich.html#64163\"><img alt=\"\" src=\"/hot/64163.jpg\"/></a>,\n",
       " <a href=\"/b/benjaminfrancisleftwich.html#64163\">Benjamin Francis Leftwich</a>,\n",
       " <a href=\"/b/blaqkaudio.html#64872\"><img alt=\"\" src=\"/hot/64872.jpg\"/></a>,\n",
       " <a href=\"/b/blaqkaudio.html#64872\">Blaqk Audio</a>,\n",
       " <a href=\"/g/greysonchance.html#65941\"><img alt=\"\" src=\"/hot/65941.jpg\"/></a>,\n",
       " <a href=\"/g/greysonchance.html#65941\">Greyson Chance</a>,\n",
       " <a href=\"/i/intocable.html#61590\"><img alt=\"\" src=\"/hot/61590.jpg\"/></a>]"
      ]
     },
     "execution_count": 6,
     "metadata": {},
     "output_type": "execute_result"
    }
   ],
   "source": [
    "#Get all the hyperlinks on a page\n",
    "links = soup.findAll('a')\n",
    "links[25:35]"
   ]
  },
  {
   "cell_type": "markdown",
   "metadata": {},
   "source": [
    "## Lets pull one of the link pages and see what we can get!  \n",
    "**Notice that these are relative links that all refer to pages and subdirectories within the azlyrics domain.**  \n",
    "We'll have to be sure to account for this when pulling successive pages."
   ]
  },
  {
   "cell_type": "code",
   "execution_count": 7,
   "metadata": {},
   "outputs": [
    {
     "name": "stdout",
     "output_type": "stream",
     "text": [
      "<!DOCTYPE html>\n",
      "<html lang=\"en\">\n",
      " <head>\n",
      "  <meta charset=\"utf-8\"/>\n",
      "  <meta content=\"IE=edge\" http-equiv=\"X-UA-Compatible\"/>\n",
      "  <meta content=\"width=device-width, initial-scale=1\" name=\"viewport\"/>\n",
      "  <!-- The above 3 meta tags *must* come first in the head; any other head content must come *after* these tags -->\n",
      "  <meta content='Intocable lyrics - 227 song lyrics sorted by album, including \"No Van A Entender\", \"Dímelo De Frente\", \"Dile Al Tiempo\".' name=\"description\"/>\n",
      "  <meta content=\"Intocable, Intocable lyrics, discography, albums, songs\" name=\"keywords\"/>\n",
      "  <meta content=\"noarchive\" name=\"robots\"/>\n",
      "  <title>\n",
      "   Intocable Lyrics\n",
      "  </title>\n",
      "  <link href=\"https://maxcdn.bootstrapcdn.com/bootstrap/3.3.4/css/bootstrap.min.css\" rel=\"stylesheet\"/>\n",
      "  <link href=\"//www.azlyrics.com/bsaz.css\" rel=\"stylesheet\"/>\n",
      "  <!-- HTML5 shim and Respond.js for IE8 support of HTML5 elements and media queries -->\n",
      "  <!--[if lt IE 9]>\r\n",
      "<script src=\"https://oss.maxcdn.com/html5shiv/3.7.2/html5shiv.min.js\"></scr\n"
     ]
    }
   ],
   "source": [
    "link = links[35]\n",
    "url_base = 'https://www.azlyrics.com/'\n",
    "url_ext = link.get('href')\n",
    "html_page = requests.get(url_base + url_ext)\n",
    "soup = BeautifulSoup(html_page.content, 'html.parser')\n",
    "print(soup.prettify()[:1000])"
   ]
  },
  {
   "cell_type": "markdown",
   "metadata": {},
   "source": [
    "### More parsing!\n",
    "Here's what the page looks like in a web browser:\n",
    "\n",
    "![](./images/artist_page.png)\n",
    "\n",
    "Now let's retrieve a list of the song pages as well as their assosciated albums!"
   ]
  },
  {
   "cell_type": "markdown",
   "metadata": {},
   "source": [
    "### Pulling out the Album Headers\n",
    "\n",
    "![](./images/artist_inspect.png)\n",
    "We want something more specific so let's look at the page itself.  \n",
    "Right click (windows)/ option + click (mac) on one of the album titles and go to **inspect**.  \n",
    "\n",
    "You should see something like this:\n",
    "![](./images/artist_inspect_detailed.png)\n",
    "\n",
    "Look at the details for the album header:  \n",
    "  \n",
    "  \n",
    "![](./images/inspect_div_detailed.png)\n",
    "It's a div container called 'album'! Let's use this to select the various albums from the page."
   ]
  },
  {
   "cell_type": "code",
   "execution_count": 8,
   "metadata": {},
   "outputs": [
    {
     "name": "stdout",
     "output_type": "stream",
     "text": [
      "Number of matches: 17\n",
      "Object type: <class 'bs4.element.ResultSet'>\n",
      "Preview of objects:\n",
      "[<div class=\"album\" id=\"24756\">album: <b>\"Otro Mundo (Another World)\"</b> (1995)</div>, <div class=\"album\" id=\"24757\">album: <b>\"Llévame Contigo (Take Me With You)\"</b> (1996)</div>]\n"
     ]
    }
   ],
   "source": [
    "albums = soup.find_all(\"div\", class_=\"album\")\n",
    "print('Number of matches: {}'.format(len(albums)))\n",
    "print('Object type: {}'.format(type(albums)))\n",
    "print('Preview of objects:\\n{}'.format(albums[:2]))"
   ]
  },
  {
   "cell_type": "markdown",
   "metadata": {},
   "source": [
    "### Navigating the DOM Hierarchy\n",
    "![](./images/artist_song_inspect.png)\n",
    "Notice that under each of these album DIVs there are links for each of the songs.  \n",
    "These links aren't children of the div object in the page's structure (they could be but that's not how this website structured them.) Instead, they are siblings to the div element."
   ]
  },
  {
   "cell_type": "markdown",
   "metadata": {},
   "source": [
    "### Pulling out the Song Titles and Pages\n",
    "Let's start by taking a look at all of the hyperlinked siblings of the first album we found."
   ]
  },
  {
   "cell_type": "code",
   "execution_count": 9,
   "metadata": {},
   "outputs": [
    {
     "data": {
      "text/plain": [
       "[<a href=\"../lyrics/intocable/lamentira.html\" target=\"_blank\">La Mentira</a>,\n",
       " <a href=\"../lyrics/intocable/coqueta.html\" target=\"_blank\">Coqueta</a>,\n",
       " <a href=\"../lyrics/intocable/perdoname.html\" target=\"_blank\">Perdoname</a>,\n",
       " <a href=\"../lyrics/intocable/volvisteami.html\" target=\"_blank\">Volviste A Mi</a>,\n",
       " <a href=\"../lyrics/intocable/almacoraznyvida.html\" target=\"_blank\">Alma, Corazón Y Vida</a>,\n",
       " <a href=\"../lyrics/intocable/aprendiavivir.html\" target=\"_blank\">Aprendi A Vivir</a>,\n",
       " <a href=\"../lyrics/intocable/dulcenia.html\" target=\"_blank\">Dulce Niña</a>,\n",
       " <a href=\"../lyrics/intocable/notendrascalma.html\" target=\"_blank\">No Tendras Calma</a>,\n",
       " <a href=\"../lyrics/intocable/elreproche.html\" target=\"_blank\">El Reproche</a>,\n",
       " <a href=\"../lyrics/intocable/parecequeno.html\" target=\"_blank\">Parece Que No</a>,\n",
       " <a href=\"../lyrics/intocable/besosincondicion.html\" target=\"_blank\">Beso Sin Condicion</a>,\n",
       " <a href=\"../lyrics/intocable/caminar.html\" target=\"_blank\">Caminar</a>,\n",
       " <a href=\"../lyrics/intocable/notevayas.html\" target=\"_blank\">No Te Vayas</a>,\n",
       " <a href=\"../lyrics/intocable/yaves.html\" target=\"_blank\">Ya Ves</a>,\n",
       " <a href=\"../lyrics/intocable/elcoraznmedomina.html\" target=\"_blank\">El Corazón Me Domina</a>,\n",
       " <a href=\"../lyrics/intocable/porunbeso.html\" target=\"_blank\">Por Un Beso</a>,\n",
       " <a href=\"../lyrics/intocable/miedo.html\" target=\"_blank\">Miedo</a>,\n",
       " <a href=\"../lyrics/intocable/ladejequesemarchara.html\" target=\"_blank\">La Deje Que Se Marchara</a>,\n",
       " <a href=\"../lyrics/intocable/llevamecontigo.html\" target=\"_blank\">Llevame Contigo</a>,\n",
       " <a href=\"../lyrics/intocable/ytodoparaque.html\" target=\"_blank\">Y Todo Para Que</a>,\n",
       " <a href=\"../lyrics/intocable/teestadoliendo.html\" target=\"_blank\">Te Esta Doliendo</a>,\n",
       " <a href=\"../lyrics/intocable/enmilpedazos.html\" target=\"_blank\">En Mil Pedazos</a>,\n",
       " <a href=\"../lyrics/intocable/enlasgarrasdetucorazn.html\" target=\"_blank\">En Las Garras De Tu Corazón</a>,\n",
       " <a href=\"../lyrics/intocable/dejamepartir.html\" target=\"_blank\">Dejame Partir</a>,\n",
       " <a href=\"../lyrics/intocable/ytodoparaque.html\" target=\"_blank\">Y Todo Para Que</a>,\n",
       " <a href=\"../lyrics/intocable/notevayas.html\" target=\"_blank\">No Te Vayas</a>,\n",
       " <a href=\"../lyrics/intocable/llevamecontigo.html\" target=\"_blank\">Llevame Contigo</a>,\n",
       " <a href=\"../lyrics/intocable/coqueta.html\" target=\"_blank\">Coqueta</a>,\n",
       " <a href=\"../lyrics/intocable/parecequeno.html\" target=\"_blank\">Parece Que No</a>,\n",
       " <a href=\"../lyrics/intocable/siguele.html\" target=\"_blank\">Siguele</a>,\n",
       " <a href=\"../lyrics/intocable/lamentira.html\" target=\"_blank\">La Mentira</a>,\n",
       " <a href=\"../lyrics/intocable/mehasrobadolacalma.html\" target=\"_blank\">Me Has Robado La Calma</a>,\n",
       " <a href=\"../lyrics/intocable/yaves.html\" target=\"_blank\">Ya Ves</a>,\n",
       " <a href=\"../lyrics/intocable/enlasgarrasdetucorazn.html\" target=\"_blank\">En Las Garras De Tu Corazón</a>,\n",
       " <a href=\"../lyrics/intocable/veteya.html\" target=\"_blank\">Vete Ya</a>,\n",
       " <a href=\"../lyrics/intocable/muchachita.html\" target=\"_blank\">Muchachita</a>,\n",
       " <a href=\"../lyrics/intocable/eresmidroga.html\" target=\"_blank\">Eres Mi Droga</a>,\n",
       " <a href=\"../lyrics/intocable/tevoyaconquistar.html\" target=\"_blank\">Te Voy A Conquistar</a>,\n",
       " <a href=\"../lyrics/intocable/porqutenasquesert.html\" target=\"_blank\">¿Por Qué Tenías Que Ser Tú?</a>,\n",
       " <a href=\"../lyrics/intocable/siseacaboelamor.html\" target=\"_blank\">Si Se Acabo El Amor</a>,\n",
       " <a href=\"../lyrics/intocable/invitadadehonor.html\" target=\"_blank\">Invitada De Honor</a>,\n",
       " <a href=\"../lyrics/intocable/recordandotutraicion.html\" target=\"_blank\">Recordando Tu Traicion</a>,\n",
       " <a href=\"../lyrics/intocable/dondeestas.html\" target=\"_blank\">Donde Estas?</a>,\n",
       " <a href=\"../lyrics/intocable/elamor.html\" target=\"_blank\">El Amor</a>,\n",
       " <a href=\"../lyrics/intocable/adiosmiamor.html\" target=\"_blank\">Adios Mi Amor</a>,\n",
       " <a href=\"../lyrics/intocable/vivirsinellas.html\" target=\"_blank\">Vivir Sin Ellas</a>,\n",
       " <a href=\"../lyrics/intocable/quepena.html\" target=\"_blank\">Que Pena</a>,\n",
       " <a href=\"../lyrics/intocable/penaresypesares.html\" target=\"_blank\">Penares Y Pesares</a>,\n",
       " <a href=\"../lyrics/intocable/platicandoconlasoledad.html\" target=\"_blank\">Platicando Con La Soledad</a>,\n",
       " <a href=\"../lyrics/intocable/amormaldito.html\" target=\"_blank\">Amor Maldito</a>,\n",
       " <a href=\"../lyrics/intocable/djameseryo.html\" target=\"_blank\">Déjame Ser Yo</a>,\n",
       " <a href=\"../lyrics/intocable/perdedor.html\" target=\"_blank\">Perdedor</a>,\n",
       " <a href=\"../lyrics/intocable/quierollenarte.html\" target=\"_blank\">Quiero Llenarte</a>,\n",
       " <a href=\"../lyrics/intocable/huracn.html\" target=\"_blank\">Huracán</a>,\n",
       " <a href=\"../lyrics/intocable/elmejordemisrecuerdos.html\" target=\"_blank\">El Mejor De Mis Recuerdos</a>,\n",
       " <a href=\"../lyrics/intocable/notengonada.html\" target=\"_blank\">No Tengo Nada</a>,\n",
       " <a href=\"../lyrics/intocable/parasiempre.html\" target=\"_blank\">Para Siempre</a>,\n",
       " <a href=\"../lyrics/intocable/enmisoledad.html\" target=\"_blank\">En Mi Soledad</a>,\n",
       " <a href=\"../lyrics/intocable/pinsalobien.html\" target=\"_blank\">Piénsalo Bien</a>,\n",
       " <a href=\"../lyrics/intocable/dondequieraqueests.html\" target=\"_blank\">Dondequiera Que Estés</a>,\n",
       " <a href=\"../lyrics/intocable/porquetedimicorazn.html\" target=\"_blank\">Porque Te Di Mi Corazón</a>,\n",
       " <a href=\"../lyrics/intocable/elamigoquesefue.html\" target=\"_blank\">El Amigo Que Se Fue</a>,\n",
       " <a href=\"../lyrics/intocable/vuelvoacreerenelamor.html\" target=\"_blank\">Vuelvo A Creer En El Amor</a>,\n",
       " <a href=\"../lyrics/intocable/undesengao.html\" target=\"_blank\">Un Desengaño</a>,\n",
       " <a href=\"../lyrics/intocable/costumbre.html\" target=\"_blank\">Costumbre</a>,\n",
       " <a href=\"../lyrics/intocable/fuertenosoy.html\" target=\"_blank\">Fuerte No Soy</a>,\n",
       " <a href=\"../lyrics/intocable/contigohefallado.html\" target=\"_blank\">Contigo He Fallado</a>,\n",
       " <a href=\"../lyrics/intocable/soadoreterno.html\" target=\"_blank\">Soñador Eterno</a>,\n",
       " <a href=\"../lyrics/intocable/hoyduele.html\" target=\"_blank\">Hoy Duele</a>,\n",
       " <a href=\"../lyrics/intocable/contigo.html\" target=\"_blank\">Contigo</a>,\n",
       " <a href=\"../lyrics/intocable/estoyenamorado.html\" target=\"_blank\">Estoy Enamorado</a>,\n",
       " <a href=\"../lyrics/intocable/estanbello.html\" target=\"_blank\">Es Tan Bello</a>,\n",
       " <a href=\"../lyrics/intocable/yaestoycansado.html\" target=\"_blank\">Ya Estoy Cansado</a>,\n",
       " <a href=\"../lyrics/intocable/tequiero.html\" target=\"_blank\">Te Quiero</a>,\n",
       " <a href=\"../lyrics/intocable/ensameaolvidarte.html\" target=\"_blank\">Enséñame A Olvidarte</a>,\n",
       " <a href=\"../lyrics/intocable/noteolvidar.html\" target=\"_blank\">No Te Olvidaré</a>,\n",
       " <a href=\"../lyrics/intocable/fuertemente.html\" target=\"_blank\">Fuertemente</a>,\n",
       " <a href=\"../lyrics/intocable/conmisalasrotas.html\" target=\"_blank\">Con Mis Alas Rotas</a>,\n",
       " <a href=\"../lyrics/intocable/paraquvolver.html\" target=\"_blank\">Para Qué Volver</a>,\n",
       " <a href=\"../lyrics/intocable/solo.html\" target=\"_blank\">Solo</a>,\n",
       " <a href=\"../lyrics/intocable/yonotengolaculpa.html\" target=\"_blank\">Yo No Tengo La Culpa</a>,\n",
       " <a href=\"../lyrics/intocable/aydame.html\" target=\"_blank\">Ayúdame</a>,\n",
       " <a href=\"../lyrics/intocable/djameamarte.html\" target=\"_blank\">Déjame Amarte</a>,\n",
       " <a href=\"../lyrics/intocable/adndesemarchelamor.html\" target=\"_blank\">¿A Dónde Se Marchó El Amor?</a>,\n",
       " <a href=\"../lyrics/intocable/estsquetepelas.html\" target=\"_blank\">Estás Que Te Pelas</a>,\n",
       " <a href=\"../lyrics/intocable/nomedigasqueno.html\" target=\"_blank\">No Me Digas Que No</a>,\n",
       " <a href=\"../lyrics/intocable/mehacestantomal.html\" target=\"_blank\">Me Haces Tanto Mal</a>,\n",
       " <a href=\"../lyrics/intocable/voyatenerqueolvidarla.html\" target=\"_blank\">Voy A Tener Que Olvidarla</a>,\n",
       " <a href=\"../lyrics/intocable/esparati.html\" target=\"_blank\">Es Para Ti</a>,\n",
       " <a href=\"../lyrics/intocable/suea.html\" target=\"_blank\">Sueña</a>,\n",
       " <a href=\"../lyrics/intocable/vuelve.html\" target=\"_blank\">Vuelve</a>,\n",
       " <a href=\"../lyrics/intocable/tesigoamando.html\" target=\"_blank\">Te Sigo Amando</a>,\n",
       " <a href=\"../lyrics/intocable/jamstedije.html\" target=\"_blank\">Jamás Te Dije</a>,\n",
       " <a href=\"../lyrics/intocable/muyatumanera.html\" target=\"_blank\">Muy A Tu Manera</a>,\n",
       " <a href=\"../lyrics/intocable/alguiencomot.html\" target=\"_blank\">Alguien Como Tú</a>,\n",
       " <a href=\"../lyrics/intocable/desolacin.html\" target=\"_blank\">Desolación</a>,\n",
       " <a href=\"../lyrics/intocable/msdbilquet.html\" target=\"_blank\">Más Débil Que Tú</a>,\n",
       " <a href=\"../lyrics/intocable/elpoderdetusmanos.html\" target=\"_blank\">El Poder De Tus Manos</a>,\n",
       " <a href=\"../lyrics/intocable/stevas.html\" target=\"_blank\">Sí Te Vas</a>,\n",
       " <a href=\"../lyrics/intocable/enqufallamos.html\" target=\"_blank\">¿En Qué Fallamos?</a>,\n",
       " <a href=\"../lyrics/intocable/nadaesigual.html\" target=\"_blank\">Nada Es Igual</a>,\n",
       " <a href=\"../lyrics/intocable/voyaextraarte.html\" target=\"_blank\">Voy A Extrañarte</a>,\n",
       " <a href=\"../lyrics/intocable/msqueunsueo.html\" target=\"_blank\">Más Que Un Sueño</a>,\n",
       " <a href=\"../lyrics/intocable/cmoteextrao.html\" target=\"_blank\">¡Cómo Te Extraño!</a>,\n",
       " <a href=\"../lyrics/intocable/adndeestabas.html\" target=\"_blank\">¿A Dónde Estabas?</a>,\n",
       " <a href=\"../lyrics/intocable/soyunnovato.html\" target=\"_blank\">Soy Un Novato</a>,\n",
       " <a href=\"../lyrics/intocable/cuntasveces.html\" target=\"_blank\">¿Cuántas Veces?</a>,\n",
       " <a href=\"../lyrics/intocable/esoduele.html\" target=\"_blank\">Eso Duele</a>,\n",
       " <a href=\"../lyrics/intocable/invisible.html\" target=\"_blank\">Invisible</a>,\n",
       " <a href=\"../lyrics/intocable/spudiera.html\" target=\"_blank\">Sí Pudiera</a>,\n",
       " <a href=\"../lyrics/intocable/aunquemeduela.html\" target=\"_blank\">Aunque Me Duela</a>,\n",
       " <a href=\"../lyrics/intocable/siemprealfinal.html\" target=\"_blank\">Siempre Al Final</a>,\n",
       " <a href=\"../lyrics/intocable/historiadeamor.html\" target=\"_blank\">Historia De Amor</a>,\n",
       " <a href=\"../lyrics/intocable/snostenemos.html\" target=\"_blank\">Sí Nos Tenemos</a>,\n",
       " <a href=\"../lyrics/intocable/soledadsientomorir.html\" target=\"_blank\">Soledad (Siento Morir)</a>,\n",
       " <a href=\"../lyrics/intocable/alguientevaahacerllorar.html\" target=\"_blank\">Alguien Te Va a Hacer Llorar</a>,\n",
       " <a href=\"../lyrics/intocable/enpazdescanse.html\" target=\"_blank\">En Paz Descanse</a>,\n",
       " <a href=\"../lyrics/intocable/aire.html\" target=\"_blank\">Aire</a>,\n",
       " <a href=\"../lyrics/intocable/momentos.html\" target=\"_blank\">Momentos</a>,\n",
       " <a href=\"../lyrics/intocable/olvdamet.html\" target=\"_blank\">Olvídame Tú</a>,\n",
       " <a href=\"../lyrics/intocable/aoscuras.html\" target=\"_blank\">A Oscuras</a>,\n",
       " <a href=\"../lyrics/intocable/heridodelcorazn.html\" target=\"_blank\">Herido Del Corazón</a>,\n",
       " <a href=\"../lyrics/intocable/ahoraqueteperd.html\" target=\"_blank\">Ahora Que Te Perdí</a>,\n",
       " <a href=\"../lyrics/intocable/teamo.html\" target=\"_blank\">Te Amo</a>,\n",
       " <a href=\"../lyrics/intocable/esmejordeciradios.html\" target=\"_blank\">Es Mejor Decir Adios</a>,\n",
       " <a href=\"../lyrics/intocable/esalguienms.html\" target=\"_blank\">Es Alguien Más</a>,\n",
       " <a href=\"../lyrics/intocable/tiempo.html\" target=\"_blank\">Tiempo</a>,\n",
       " <a href=\"../lyrics/intocable/aveces.html\" target=\"_blank\">A Veces</a>,\n",
       " <a href=\"../lyrics/intocable/porellapocoapoco.html\" target=\"_blank\">Por Ella (Poco A Poco)</a>,\n",
       " <a href=\"../lyrics/intocable/telojuro.html\" target=\"_blank\">Te Lo Juro</a>,\n",
       " <a href=\"../lyrics/intocable/vuelvemiamor.html\" target=\"_blank\">Vuelve Mi Amor</a>,\n",
       " <a href=\"../lyrics/intocable/libertad.html\" target=\"_blank\">Libertad</a>,\n",
       " <a href=\"../lyrics/intocable/basto.html\" target=\"_blank\">Basto</a>,\n",
       " <a href=\"../lyrics/intocable/teextrao.html\" target=\"_blank\">Te Extraño</a>,\n",
       " <a href=\"../lyrics/intocable/yanopuedocambiarmivida.html\" target=\"_blank\">Ya No Puedo Cambiar Mi Vida</a>,\n",
       " <a href=\"../lyrics/intocable/quesperabas.html\" target=\"_blank\">Qué Esperabas</a>,\n",
       " <a href=\"../lyrics/intocable/lapalabraamor.html\" target=\"_blank\">La Palabra Amor</a>,\n",
       " <a href=\"../lyrics/intocable/dameunbesito.html\" target=\"_blank\">Dame Un Besito</a>,\n",
       " <a href=\"../lyrics/intocable/tenecesito.html\" target=\"_blank\">Te Necesito</a>,\n",
       " <a href=\"../lyrics/intocable/volvaquedarmesolo.html\" target=\"_blank\">Volví A Quedarme Solo</a>,\n",
       " <a href=\"../lyrics/intocable/porellapop.html\" target=\"_blank\">Por Ella (Pop)</a>,\n",
       " <a href=\"../lyrics/intocable/nadaesigual.html\" target=\"_blank\">Nada Es Igual</a>,\n",
       " <a href=\"../lyrics/intocable/mirndote.html\" target=\"_blank\">Mirándote</a>,\n",
       " <a href=\"../lyrics/intocable/loquecallas.html\" target=\"_blank\">Lo Que Callas</a>,\n",
       " <a href=\"../lyrics/intocable/quefcilesamarte.html\" target=\"_blank\">Que Fácil Es Amarte</a>,\n",
       " <a href=\"../lyrics/intocable/medejcaer.html\" target=\"_blank\">Me Dejé Caer</a>,\n",
       " <a href=\"../lyrics/intocable/cmoteatreves.html\" target=\"_blank\">¿Cómo Te Atreves?</a>,\n",
       " <a href=\"../lyrics/intocable/respiroamor.html\" target=\"_blank\">Respiro Amor</a>,\n",
       " <a href=\"../lyrics/intocable/caminare.html\" target=\"_blank\">Caminaré</a>,\n",
       " <a href=\"../lyrics/intocable/quisiera.html\" target=\"_blank\">Quisiera</a>,\n",
       " <a href=\"../lyrics/intocable/memarchar.html\" target=\"_blank\">Me Marcharé</a>,\n",
       " <a href=\"../lyrics/intocable/llvameentuviaje.html\" target=\"_blank\">Llévame En Tu Viaje</a>,\n",
       " <a href=\"../lyrics/intocable/tuadisnomata.html\" target=\"_blank\">Tu Adiós No Mata</a>,\n",
       " <a href=\"../lyrics/intocable/pensndolobien.html\" target=\"_blank\">Pensándolo Bien</a>,\n",
       " <a href=\"../lyrics/intocable/porquenoledije.html\" target=\"_blank\">Por Que No Le Dije</a>,\n",
       " <a href=\"../lyrics/intocable/dimequemeamas.html\" target=\"_blank\">Dime Que Me Amas</a>,\n",
       " <a href=\"../lyrics/intocable/dudaysoledad.html\" target=\"_blank\">Duda Y Soledad</a>,\n",
       " <a href=\"../lyrics/intocable/tuamoryelmio.html\" target=\"_blank\">Tu Amor Y El Mio</a>,\n",
       " <a href=\"../lyrics/intocable/anhelo.html\" target=\"_blank\">Anhelo</a>,\n",
       " <a href=\"../lyrics/intocable/rompiendoelretrato.html\" target=\"_blank\">Rompiendo El Retrato</a>,\n",
       " <a href=\"../lyrics/intocable/tuamorymiamor.html\" target=\"_blank\">Tu Amor Y Mi Amor</a>,\n",
       " <a href=\"../lyrics/intocable/crueldolor.html\" target=\"_blank\">Cruel Dolor</a>,\n",
       " <a href=\"../lyrics/intocable/capullitoderosa.html\" target=\"_blank\">Capullito De Rosa</a>,\n",
       " <a href=\"../lyrics/intocable/rogante.html\" target=\"_blank\">Rogante</a>,\n",
       " <a href=\"../lyrics/intocable/lapreciosa.html\" target=\"_blank\">La Preciosa</a>,\n",
       " <a href=\"../lyrics/intocable/elsuspiro.html\" target=\"_blank\">El Suspiro</a>,\n",
       " <a href=\"../lyrics/intocable/dequestucorazn.html\" target=\"_blank\">De Qué Es Tu Corazón</a>,\n",
       " <a href=\"../lyrics/intocable/poresoestamoscomoestamos.html\" target=\"_blank\">Por Eso Estamos Como Estamos</a>,\n",
       " <a href=\"../lyrics/intocable/hayojitos.html\" target=\"_blank\">Hay Ojitos</a>,\n",
       " <a href=\"../lyrics/intocable/esosnuncapodrs.html\" target=\"_blank\">Eso Sí Nunca Podrás</a>,\n",
       " <a href=\"../lyrics/intocable/desconfianza.html\" target=\"_blank\">Desconfianza</a>,\n",
       " <a href=\"../lyrics/intocable/amornecio.html\" target=\"_blank\">Amor Necio</a>,\n",
       " <a href=\"../lyrics/intocable/misveintenovias.html\" target=\"_blank\">Mis Veinte Novias</a>,\n",
       " <a href=\"../lyrics/intocable/estamosenalgo.html\" target=\"_blank\">Estamos En Algo</a>,\n",
       " <a href=\"../lyrics/intocable/promet.html\" target=\"_blank\">Prometí</a>,\n",
       " <a href=\"../lyrics/intocable/situfuerasmia.html\" target=\"_blank\">Si Tu Fueras Mia</a>,\n",
       " <a href=\"../lyrics/intocable/medijistetequero.html\" target=\"_blank\">Me Dijiste Te Quero</a>,\n",
       " <a href=\"../lyrics/intocable/llueve.html\" target=\"_blank\">Llueve</a>,\n",
       " <a href=\"../lyrics/intocable/arrepientete.html\" target=\"_blank\">Arrepientete</a>,\n",
       " <a href=\"../lyrics/intocable/solopiensoentuamor.html\" target=\"_blank\">Solo Pienso En Tu Amor</a>,\n",
       " <a href=\"../lyrics/intocable/aunqueesteslejos.html\" target=\"_blank\">Aunque Estes Lejos</a>,\n",
       " <a href=\"../lyrics/intocable/callada.html\" target=\"_blank\">Callada</a>,\n",
       " <a href=\"../lyrics/intocable/teaguante.html\" target=\"_blank\">Te Aguante</a>,\n",
       " <a href=\"../lyrics/intocable/robarteunbeso.html\" target=\"_blank\">Robarte Un Beso</a>,\n",
       " <a href=\"../lyrics/intocable/jurame.html\" target=\"_blank\">Jurame</a>,\n",
       " <a href=\"../lyrics/intocable/noquentesconmigo.html\" target=\"_blank\">No Quentes Conmigo</a>,\n",
       " <a href=\"../lyrics/intocable/nosabesamar.html\" target=\"_blank\">No Sabes Amar</a>,\n",
       " <a href=\"../lyrics/intocable/nosfaltohablar.html\" target=\"_blank\">Nos Falto Hablar</a>,\n",
       " <a href=\"../lyrics/intocable/cmosefueella.html\" target=\"_blank\">Cómo Se Fue Ella</a>,\n",
       " <a href=\"../lyrics/intocable/decidimosbienomal.html\" target=\"_blank\">Decidimos (Bien O Mal)</a>,\n",
       " <a href=\"../lyrics/intocable/culpablefuiculpablesoy.html\" target=\"_blank\">Culpable Fui (Culpable Soy)</a>,\n",
       " <a href=\"../lyrics/intocable/nosertarde.html\" target=\"_blank\">No Será Tarde</a>,\n",
       " <a href=\"../lyrics/intocable/cmoseolvida.html\" target=\"_blank\">Cómo Se Olvida</a>,\n",
       " <a href=\"../lyrics/intocable/dmelo.html\" target=\"_blank\">Dímelo</a>,\n",
       " <a href=\"../lyrics/intocable/teamoparasiempre.html\" target=\"_blank\">Te Amo (Para Siempre)</a>,\n",
       " <a href=\"../lyrics/intocable/tedeseolomejor.html\" target=\"_blank\">Te Deseo Lo Mejor</a>,\n",
       " <a href=\"../lyrics/intocable/cadavezqueestsconmigo.html\" target=\"_blank\">Cada Vez Que Estás Conmigo</a>,\n",
       " <a href=\"../lyrics/intocable/seacabtufe.html\" target=\"_blank\">Se Acabó Tu Fe</a>,\n",
       " <a href=\"../lyrics/intocable/ytevas.html\" target=\"_blank\">Y Te Vas</a>,\n",
       " <a href=\"../lyrics/intocable/arrepentido.html\" target=\"_blank\">Arrepentido</a>,\n",
       " <a href=\"../lyrics/intocable/quirememame.html\" target=\"_blank\">Quiéreme (Ámame)</a>,\n",
       " <a href=\"../lyrics/intocable/cuidar.html\" target=\"_blank\">Cuidaré</a>,\n",
       " <a href=\"../lyrics/intocable/teperdono.html\" target=\"_blank\">Te Perdono</a>,\n",
       " <a href=\"../lyrics/intocable/ustedmeencanta.html\" target=\"_blank\">Usted Me Encanta</a>,\n",
       " <a href=\"../lyrics/intocable/da730.html\" target=\"_blank\">Día 730</a>,\n",
       " <a href=\"../lyrics/intocable/quiznoseatarde.html\" target=\"_blank\">Quizá No Sea Tarde</a>,\n",
       " <a href=\"../lyrics/intocable/undasinti.html\" target=\"_blank\">Un Día Sin Ti</a>,\n",
       " <a href=\"../lyrics/intocable/dueleelamor.html\" target=\"_blank\">Duele El Amor</a>,\n",
       " <a href=\"../lyrics/intocable/cuandomeventusojos.html\" target=\"_blank\">Cuando Me Ví En Tus Ojos</a>,\n",
       " <a href=\"../lyrics/intocable/cuestindetiempo.html\" target=\"_blank\">Cuestión De Tiempo</a>,\n",
       " <a href=\"../lyrics/intocable/enlaobscuridad.html\" target=\"_blank\">En La Obscuridad</a>,\n",
       " <a href=\"../lyrics/intocable/sueodeamor.html\" target=\"_blank\">Sueño De Amor</a>,\n",
       " <a href=\"../lyrics/intocable/tuausencia.html\" target=\"_blank\">Tu Ausencia</a>,\n",
       " <a href=\"../lyrics/intocable/novanaentender.html\" target=\"_blank\">No Van A Entender</a>,\n",
       " <a href=\"../lyrics/intocable/qudateconmigo.html\" target=\"_blank\">Quédate Conmigo</a>,\n",
       " <a href=\"../lyrics/intocable/nadieesindispensable.html\" target=\"_blank\">Nadie Es Indispensable</a>,\n",
       " <a href=\"../lyrics/intocable/dilealtiempo.html\" target=\"_blank\">Dile Al Tiempo</a>,\n",
       " <a href=\"../lyrics/intocable/nuncavolvers.html\" target=\"_blank\">Nunca Volverás</a>,\n",
       " <a href=\"../lyrics/intocable/quvoyhacer.html\" target=\"_blank\">Qué Voy Hacer</a>,\n",
       " <a href=\"../lyrics/intocable/despusdequererte.html\" target=\"_blank\">Después De Quererte</a>,\n",
       " <a href=\"../lyrics/intocable/tusoledadylama.html\" target=\"_blank\">Tu Soledad Y La Mía</a>,\n",
       " <a href=\"../lyrics/intocable/dmelodefrente.html\" target=\"_blank\">Dímelo De Frente</a>,\n",
       " <a href=\"../lyrics/intocable/poralguienms.html\" target=\"_blank\">Por Alguien Más</a>,\n",
       " <a href=\"../lyrics/intocable/teperddenadamesirveelperdn.html\" target=\"_blank\">Te Perdí (De Nada Me Sirve El Perdón)</a>,\n",
       " <a href=\"../lyrics/intocable/medueles.html\" target=\"_blank\">Me Dueles</a>,\n",
       " <a href=\"../lyrics/intocable/besoincompleto.html\" target=\"_blank\">Beso Incompleto</a>,\n",
       " <a href=\"../lyrics/intocable/muero.html\" target=\"_blank\">Muero</a>]"
      ]
     },
     "execution_count": 9,
     "metadata": {},
     "output_type": "execute_result"
    }
   ],
   "source": [
    "album = albums[0]\n",
    "album.findNextSiblings('a')"
   ]
  },
  {
   "cell_type": "markdown",
   "metadata": {},
   "source": [
    "See anything we can use to seperate the songs out by album?!  \n",
    "\n",
    "One option is those \"id\" tags...the web page appears to be structured to have one of these at the end of a song list for a particular album.\n",
    "\n",
    "A second option would be to look at all of the previous song titles from the next album. Then all of the songs that were both after the first album and before the second album would be those that we're after!\n",
    "\n",
    "To be difficult, I'll choose the second method to demonstrate. I'll leave the other option for you as a challenge to practice on.\n",
    "\n",
    "This should also show you that web scraping can be messy, interactive and explorative; its often a process of analyzing a page, finding structure that you can leverage and iterating to retrieve the information you're after."
   ]
  },
  {
   "cell_type": "code",
   "execution_count": 10,
   "metadata": {},
   "outputs": [
    {
     "data": {
      "text/plain": [
       "[('La Mentira',\n",
       "  '../lyrics/intocable/lamentira.html',\n",
       "  'album: \"Otro Mundo (Another World)\" (1995)'),\n",
       " ('Coqueta',\n",
       "  '../lyrics/intocable/coqueta.html',\n",
       "  'album: \"Otro Mundo (Another World)\" (1995)')]"
      ]
     },
     "execution_count": 10,
     "metadata": {},
     "output_type": "execute_result"
    }
   ],
   "source": [
    "data = [] #Create a storage container\n",
    "for album_n in range(len(albums)):\n",
    "    #On the last album, we won't be able to look forward\n",
    "    if album_n == len(albums)-1:\n",
    "        cur_album = albums[album_n]\n",
    "        album_songs = cur_album.findNextSiblings('a')\n",
    "        for song in album_songs:\n",
    "            page = song.get('href')\n",
    "            title = song.text\n",
    "            album = cur_album.text\n",
    "            data.append((title, page, album))\n",
    "    else:\n",
    "        cur_album = albums[album_n]\n",
    "        next_album = albums[album_n+1]\n",
    "        saca = cur_album.findNextSiblings('a') #songs after current album\n",
    "        sbna = next_album.findPreviousSiblings('a') #songs before next album\n",
    "        album_songs = [song for song in saca if song in sbna] #album songs are those listed after the current album but before the next one!\n",
    "        for song in album_songs:\n",
    "            page = song.get('href')\n",
    "            title = song.text\n",
    "            album = cur_album.text\n",
    "            data.append((title, page, album))\n",
    "data[:2]"
   ]
  },
  {
   "cell_type": "code",
   "execution_count": 11,
   "metadata": {},
   "outputs": [
    {
     "name": "stdout",
     "output_type": "stream",
     "text": [
      "241 3\n"
     ]
    }
   ],
   "source": [
    "print(len(data), len(data[0]))"
   ]
  },
  {
   "cell_type": "markdown",
   "metadata": {},
   "source": [
    "### Storing Elements\n",
    "Let's start to clean everything up. To start let's create a Pandas DataFrame; a spreadsheet object similar to those from Microsoft Excel."
   ]
  },
  {
   "cell_type": "code",
   "execution_count": 12,
   "metadata": {},
   "outputs": [
    {
     "name": "stdout",
     "output_type": "stream",
     "text": [
      "241\n"
     ]
    },
    {
     "data": {
      "text/html": [
       "<div>\n",
       "<style scoped>\n",
       "    .dataframe tbody tr th:only-of-type {\n",
       "        vertical-align: middle;\n",
       "    }\n",
       "\n",
       "    .dataframe tbody tr th {\n",
       "        vertical-align: top;\n",
       "    }\n",
       "\n",
       "    .dataframe thead th {\n",
       "        text-align: right;\n",
       "    }\n",
       "</style>\n",
       "<table border=\"1\" class=\"dataframe\">\n",
       "  <thead>\n",
       "    <tr style=\"text-align: right;\">\n",
       "      <th></th>\n",
       "      <th>Song</th>\n",
       "      <th>Url_ext</th>\n",
       "      <th>Album</th>\n",
       "    </tr>\n",
       "  </thead>\n",
       "  <tbody>\n",
       "    <tr>\n",
       "      <th>0</th>\n",
       "      <td>La Mentira</td>\n",
       "      <td>../lyrics/intocable/lamentira.html</td>\n",
       "      <td>album: \"Otro Mundo (Another World)\" (1995)</td>\n",
       "    </tr>\n",
       "    <tr>\n",
       "      <th>1</th>\n",
       "      <td>Coqueta</td>\n",
       "      <td>../lyrics/intocable/coqueta.html</td>\n",
       "      <td>album: \"Otro Mundo (Another World)\" (1995)</td>\n",
       "    </tr>\n",
       "    <tr>\n",
       "      <th>2</th>\n",
       "      <td>Perdoname</td>\n",
       "      <td>../lyrics/intocable/perdoname.html</td>\n",
       "      <td>album: \"Otro Mundo (Another World)\" (1995)</td>\n",
       "    </tr>\n",
       "    <tr>\n",
       "      <th>3</th>\n",
       "      <td>Volviste A Mi</td>\n",
       "      <td>../lyrics/intocable/volvisteami.html</td>\n",
       "      <td>album: \"Otro Mundo (Another World)\" (1995)</td>\n",
       "    </tr>\n",
       "    <tr>\n",
       "      <th>4</th>\n",
       "      <td>Alma, Corazón Y Vida</td>\n",
       "      <td>../lyrics/intocable/almacoraznyvida.html</td>\n",
       "      <td>album: \"Otro Mundo (Another World)\" (1995)</td>\n",
       "    </tr>\n",
       "  </tbody>\n",
       "</table>\n",
       "</div>"
      ],
      "text/plain": [
       "                   Song                                   Url_ext  \\\n",
       "0            La Mentira        ../lyrics/intocable/lamentira.html   \n",
       "1               Coqueta          ../lyrics/intocable/coqueta.html   \n",
       "2             Perdoname        ../lyrics/intocable/perdoname.html   \n",
       "3         Volviste A Mi      ../lyrics/intocable/volvisteami.html   \n",
       "4  Alma, Corazón Y Vida  ../lyrics/intocable/almacoraznyvida.html   \n",
       "\n",
       "                                        Album  \n",
       "0  album: \"Otro Mundo (Another World)\" (1995)  \n",
       "1  album: \"Otro Mundo (Another World)\" (1995)  \n",
       "2  album: \"Otro Mundo (Another World)\" (1995)  \n",
       "3  album: \"Otro Mundo (Another World)\" (1995)  \n",
       "4  album: \"Otro Mundo (Another World)\" (1995)  "
      ]
     },
     "execution_count": 12,
     "metadata": {},
     "output_type": "execute_result"
    }
   ],
   "source": [
    "df = pd.DataFrame(data) #Create a DataFrame from the data\n",
    "print(len(df)) #See how long the dataset is (number of rows)\n",
    "df.columns = ['Song', 'Url_ext', 'Album']\n",
    "df.head() #Preview the DataFrame (default is first 5 rows) "
   ]
  },
  {
   "cell_type": "markdown",
   "metadata": {},
   "source": [
    "### Cleaning Elements\n",
    "\n",
    "Here's where your knowledge of string methods will come in super handy! You can also use more complex selection rules with Regular Expressions using the re package. See https://docs.python.org/3/library/re.html for more details!"
   ]
  },
  {
   "cell_type": "code",
   "execution_count": 13,
   "metadata": {},
   "outputs": [
    {
     "data": {
      "text/html": [
       "<div>\n",
       "<style scoped>\n",
       "    .dataframe tbody tr th:only-of-type {\n",
       "        vertical-align: middle;\n",
       "    }\n",
       "\n",
       "    .dataframe tbody tr th {\n",
       "        vertical-align: top;\n",
       "    }\n",
       "\n",
       "    .dataframe thead th {\n",
       "        text-align: right;\n",
       "    }\n",
       "</style>\n",
       "<table border=\"1\" class=\"dataframe\">\n",
       "  <thead>\n",
       "    <tr style=\"text-align: right;\">\n",
       "      <th></th>\n",
       "      <th>Song</th>\n",
       "      <th>Url_ext</th>\n",
       "      <th>Album</th>\n",
       "    </tr>\n",
       "  </thead>\n",
       "  <tbody>\n",
       "    <tr>\n",
       "      <th>0</th>\n",
       "      <td>La Mentira</td>\n",
       "      <td>../lyrics/intocable/lamentira.html</td>\n",
       "      <td>\"Otro Mundo (Another World)\" (1995)</td>\n",
       "    </tr>\n",
       "    <tr>\n",
       "      <th>1</th>\n",
       "      <td>Coqueta</td>\n",
       "      <td>../lyrics/intocable/coqueta.html</td>\n",
       "      <td>\"Otro Mundo (Another World)\" (1995)</td>\n",
       "    </tr>\n",
       "    <tr>\n",
       "      <th>2</th>\n",
       "      <td>Perdoname</td>\n",
       "      <td>../lyrics/intocable/perdoname.html</td>\n",
       "      <td>\"Otro Mundo (Another World)\" (1995)</td>\n",
       "    </tr>\n",
       "    <tr>\n",
       "      <th>3</th>\n",
       "      <td>Volviste A Mi</td>\n",
       "      <td>../lyrics/intocable/volvisteami.html</td>\n",
       "      <td>\"Otro Mundo (Another World)\" (1995)</td>\n",
       "    </tr>\n",
       "    <tr>\n",
       "      <th>4</th>\n",
       "      <td>Alma, Corazón Y Vida</td>\n",
       "      <td>../lyrics/intocable/almacoraznyvida.html</td>\n",
       "      <td>\"Otro Mundo (Another World)\" (1995)</td>\n",
       "    </tr>\n",
       "  </tbody>\n",
       "</table>\n",
       "</div>"
      ],
      "text/plain": [
       "                   Song                                   Url_ext  \\\n",
       "0            La Mentira        ../lyrics/intocable/lamentira.html   \n",
       "1               Coqueta          ../lyrics/intocable/coqueta.html   \n",
       "2             Perdoname        ../lyrics/intocable/perdoname.html   \n",
       "3         Volviste A Mi      ../lyrics/intocable/volvisteami.html   \n",
       "4  Alma, Corazón Y Vida  ../lyrics/intocable/almacoraznyvida.html   \n",
       "\n",
       "                                  Album  \n",
       "0   \"Otro Mundo (Another World)\" (1995)  \n",
       "1   \"Otro Mundo (Another World)\" (1995)  \n",
       "2   \"Otro Mundo (Another World)\" (1995)  \n",
       "3   \"Otro Mundo (Another World)\" (1995)  \n",
       "4   \"Otro Mundo (Another World)\" (1995)  "
      ]
     },
     "execution_count": 13,
     "metadata": {},
     "output_type": "execute_result"
    }
   ],
   "source": [
    "df['Album'] = df['Album'].map(lambda x: x.strip('album:')) #remove the initial \"album:\". Hopefully none of the actual names contain that!!\n",
    "df.head() #Preview updated results"
   ]
  },
  {
   "cell_type": "code",
   "execution_count": 14,
   "metadata": {},
   "outputs": [
    {
     "data": {
      "text/html": [
       "<div>\n",
       "<style scoped>\n",
       "    .dataframe tbody tr th:only-of-type {\n",
       "        vertical-align: middle;\n",
       "    }\n",
       "\n",
       "    .dataframe tbody tr th {\n",
       "        vertical-align: top;\n",
       "    }\n",
       "\n",
       "    .dataframe thead th {\n",
       "        text-align: right;\n",
       "    }\n",
       "</style>\n",
       "<table border=\"1\" class=\"dataframe\">\n",
       "  <thead>\n",
       "    <tr style=\"text-align: right;\">\n",
       "      <th></th>\n",
       "      <th>Song</th>\n",
       "      <th>Url_ext</th>\n",
       "      <th>Album</th>\n",
       "      <th>Year</th>\n",
       "    </tr>\n",
       "  </thead>\n",
       "  <tbody>\n",
       "    <tr>\n",
       "      <th>0</th>\n",
       "      <td>La Mentira</td>\n",
       "      <td>../lyrics/intocable/lamentira.html</td>\n",
       "      <td>\"Otro Mundo (Another World)\" (1995)</td>\n",
       "      <td>1995</td>\n",
       "    </tr>\n",
       "    <tr>\n",
       "      <th>1</th>\n",
       "      <td>Coqueta</td>\n",
       "      <td>../lyrics/intocable/coqueta.html</td>\n",
       "      <td>\"Otro Mundo (Another World)\" (1995)</td>\n",
       "      <td>1995</td>\n",
       "    </tr>\n",
       "    <tr>\n",
       "      <th>2</th>\n",
       "      <td>Perdoname</td>\n",
       "      <td>../lyrics/intocable/perdoname.html</td>\n",
       "      <td>\"Otro Mundo (Another World)\" (1995)</td>\n",
       "      <td>1995</td>\n",
       "    </tr>\n",
       "    <tr>\n",
       "      <th>3</th>\n",
       "      <td>Volviste A Mi</td>\n",
       "      <td>../lyrics/intocable/volvisteami.html</td>\n",
       "      <td>\"Otro Mundo (Another World)\" (1995)</td>\n",
       "      <td>1995</td>\n",
       "    </tr>\n",
       "    <tr>\n",
       "      <th>4</th>\n",
       "      <td>Alma, Corazón Y Vida</td>\n",
       "      <td>../lyrics/intocable/almacoraznyvida.html</td>\n",
       "      <td>\"Otro Mundo (Another World)\" (1995)</td>\n",
       "      <td>1995</td>\n",
       "    </tr>\n",
       "  </tbody>\n",
       "</table>\n",
       "</div>"
      ],
      "text/plain": [
       "                   Song                                   Url_ext  \\\n",
       "0            La Mentira        ../lyrics/intocable/lamentira.html   \n",
       "1               Coqueta          ../lyrics/intocable/coqueta.html   \n",
       "2             Perdoname        ../lyrics/intocable/perdoname.html   \n",
       "3         Volviste A Mi      ../lyrics/intocable/volvisteami.html   \n",
       "4  Alma, Corazón Y Vida  ../lyrics/intocable/almacoraznyvida.html   \n",
       "\n",
       "                                  Album  Year  \n",
       "0   \"Otro Mundo (Another World)\" (1995)  1995  \n",
       "1   \"Otro Mundo (Another World)\" (1995)  1995  \n",
       "2   \"Otro Mundo (Another World)\" (1995)  1995  \n",
       "3   \"Otro Mundo (Another World)\" (1995)  1995  \n",
       "4   \"Otro Mundo (Another World)\" (1995)  1995  "
      ]
     },
     "execution_count": 14,
     "metadata": {},
     "output_type": "execute_result"
    }
   ],
   "source": [
    "def extract_year(album_title):\n",
    "    try:\n",
    "        return re.findall('[(](\\d\\d\\d\\d)[)]', album_title)[0]\n",
    "    except:\n",
    "        return 'Unknown'\n",
    "df['Year'] = df['Album'].map(extract_year)\n",
    "df.head()"
   ]
  },
  {
   "cell_type": "markdown",
   "metadata": {},
   "source": [
    "### Visualizing Results\n",
    "How many songs do we have for each album?"
   ]
  },
  {
   "cell_type": "code",
   "execution_count": 15,
   "metadata": {},
   "outputs": [],
   "source": [
    "%matplotlib inline \n",
    "#this allows us to use Pandas built in graphing within the notebook"
   ]
  },
  {
   "cell_type": "code",
   "execution_count": 16,
   "metadata": {},
   "outputs": [
    {
     "data": {
      "text/plain": [
       " \"Llévame Contigo (Take Me With You)\" (1996)                          20\n",
       " \"Classic\" (2009)                                                     17\n",
       " \"Crossroads: Cruce De Caminos\" (2006)                                16\n",
       " \"Sueños (Dreams)\" (2002)                                             16\n",
       " \"X (10)\" (2005)                                                      15\n",
       " \"Es Para Tí (This Is For You)\" (2000)                                15\n",
       " \"Otro Mundo (Another World)\" (1995)                                  15\n",
       " \"Highway\" (2016)                                                     14\n",
       " \"Percepción\" (2019)                                                  14\n",
       " \"2C (12)\" (2008)                                                     13\n",
       " \"Intocable 2011\" (2011)                                              13\n",
       " \"IV (4)\" (1997)                                                      13\n",
       " \"Contigo (With You)\" (1999)                                          13\n",
       " \"En Peligro De Extincion\" (2013)                                     12\n",
       " \"Intocable (Untouchable)\" (1998)                                     12\n",
       "compilation: \"12 Super Exitos\" (1997)                                 12\n",
       " \"Nuestro Destino Estaba Escrito (Our Destiny Was Written)\" (2003)    11\n",
       "Name: Album, dtype: int64"
      ]
     },
     "execution_count": 16,
     "metadata": {},
     "output_type": "execute_result"
    }
   ],
   "source": [
    "df.Album.value_counts()"
   ]
  },
  {
   "cell_type": "code",
   "execution_count": 17,
   "metadata": {},
   "outputs": [
    {
     "data": {
      "text/plain": [
       "<matplotlib.axes._subplots.AxesSubplot at 0x7f5f68cd5080>"
      ]
     },
     "execution_count": 17,
     "metadata": {},
     "output_type": "execute_result"
    },
    {
     "data": {
      "image/png": "[encoded data removed]",
      "text/plain": [
       "<Figure size 432x288 with 1 Axes>"
      ]
     },
     "metadata": {
      "needs_background": "light"
     },
     "output_type": "display_data"
    }
   ],
   "source": [
    "df.Album.value_counts().plot(kind='barh')"
   ]
  },
  {
   "cell_type": "markdown",
   "metadata": {},
   "source": [
    "### Cleaning it up: Adding a Title and Axes\n",
    "Here we import the pyplot class within the matplotlib package.  "
   ]
  },
  {
   "cell_type": "code",
   "execution_count": 18,
   "metadata": {},
   "outputs": [],
   "source": [
    "import matplotlib.pyplot as plt"
   ]
  },
  {
   "cell_type": "code",
   "execution_count": 19,
   "metadata": {},
   "outputs": [
    {
     "data": {
      "text/plain": [
       "Text(0, 0.5, 'Album Title')"
      ]
     },
     "execution_count": 19,
     "metadata": {},
     "output_type": "execute_result"
    },
    {
     "data": {
      "image/png": "[encoded data removed]",
      "text/plain": [
       "<Figure size 432x288 with 1 Axes>"
      ]
     },
     "metadata": {
      "needs_background": "light"
     },
     "output_type": "display_data"
    }
   ],
   "source": [
    "df.Album.value_counts().plot(kind='barh')\n",
    "plt.title('Number of Songs by Album')\n",
    "plt.xlabel('Number of Songs')\n",
    "plt.ylabel('Album Title')"
   ]
  },
  {
   "cell_type": "markdown",
   "metadata": {},
   "source": [
    "## Additional Resources\n",
    "\n",
    "#### Beatiful Soup - a good go to tool for parsing the DOM\n",
    "https://www.crummy.com/software/BeautifulSoup/?\n",
    "\n",
    "#### Selenium - Browser automation (useful when you need to interact with javascript for more complex scraping)\n",
    "https://www.seleniumhq.org/\n",
    "\n",
    "#### Scrapy - another package for scraping larger datasets at scale\n",
    "https://scrapy.org/"
   ]
  },
  {
   "cell_type": "markdown",
   "metadata": {},
   "source": [
    "## Summary\n",
    "You should now have a brief intro to web scraping! The possabilities are nearly endless with what you can do. That said, not all websites will be thrilled with your new prowess. Surfing the web at super human speeds will get you banned from many domains and may violate the terms & conditions of many websites that require login. As such, there are a few considerations you should take along your way.\n",
    "\n",
    "* Is there a terms and conditions for using the website?\n",
    "* Test your scraping bot on in small samples to debug before scaling to hundreds, thousands or millions of requests.\n",
    "* Start thinking about your IP address: getting blacklisted from a website is no fun. Consider using a VPN.\n",
    "* Slow your bot down! Add delays along the way with the time package. Specifically, time.sleep(seconds) adds wait time in a program."
   ]
  },
  {
   "cell_type": "code",
   "execution_count": null,
   "metadata": {},
   "outputs": [],
   "source": []
  },
  {
   "cell_type": "code",
   "execution_count": null,
   "metadata": {},
   "outputs": [],
   "source": []
  }
 ],
 "metadata": {
  "kernelspec": {
   "display_name": "Python 3",
   "language": "python",
   "name": "python3"
  },
  "language_info": {
   "codemirror_mode": {
    "name": "ipython",
    "version": 3
   },
   "file_extension": ".py",
   "mimetype": "text/x-python",
   "name": "python",
   "nbconvert_exporter": "python",
   "pygments_lexer": "ipython3",
   "version": "3.6.6"
  }
 },
 "nbformat": 4,
 "nbformat_minor": 2
}
